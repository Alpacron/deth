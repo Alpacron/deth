{
 "cells": [
  {
   "cell_type": "markdown",
   "id": "ebb53b1a",
   "metadata": {},
   "source": [
    "# Decision Theory Project\n",
    "*By Jelle Huibregtse and Aron Hemmes*\n",
    "\n",
    "We will create a tic-tac-toe environment with the following characteristics.\n",
    "\n",
    "Environment state:\n",
    "\n",
    "- the agent is one of the nine squares\n",
    "- an X or O can be placed on every empty square"
   ]
  },
  {
   "cell_type": "code",
   "execution_count": 311,
   "id": "d535977f",
   "metadata": {},
   "outputs": [],
   "source": [
    "from IPython.display import display, clear_output\n",
    "import ipywidgets as widgets"
   ]
  },
  {
   "cell_type": "markdown",
   "id": "717bc2cb",
   "metadata": {},
   "source": [
    "## AI code"
   ]
  },
  {
   "cell_type": "code",
   "execution_count": 312,
   "id": "2fb4068e",
   "metadata": {},
   "outputs": [],
   "source": [
    "# Count turns that have passed\n",
    "def get_turns():\n",
    "    global field\n",
    "    n = 0\n",
    "    for i in range(len(field)):\n",
    "        if not field[i] == ' ':\n",
    "            n += 1\n",
    "    return n\n",
    "\n",
    "def next_move():\n",
    "    global field, player\n",
    "    return 0"
   ]
  },
  {
   "cell_type": "markdown",
   "id": "9344c8bd",
   "metadata": {},
   "source": [
    "## Setup display"
   ]
  },
  {
   "cell_type": "code",
   "execution_count": 313,
   "id": "436da65b",
   "metadata": {},
   "outputs": [],
   "source": [
    "button_layout = widgets.Layout(width = '50px', height = '50px')\n",
    "\n",
    "# Set field action\n",
    "def clicked(btn):\n",
    "    global field, player\n",
    "    if field[int(btn.tooltip)] == ' ':\n",
    "        field[int(btn.tooltip)] = player\n",
    "    render()\n",
    "\n",
    "# Reset field action\n",
    "def reset(btn):\n",
    "    global field\n",
    "    field = [' ', ' ', ' ', ' ', ' ', ' ', ' ', ' ', ' ']\n",
    "    render()\n",
    "\n",
    "# Change player action\n",
    "def player_change(btn):\n",
    "    global player\n",
    "    if player == 'X':\n",
    "        player = 'O'\n",
    "    else:\n",
    "        player = 'X'\n",
    "    reset('')\n",
    "    \n",
    "def render():\n",
    "    global field, player\n",
    "    elements = []\n",
    "    \n",
    "    # AI\n",
    "    ai = 'X'\n",
    "    if player == 'X':\n",
    "        ai = 'O'\n",
    "    if get_turns() % 2 == 1 or (player == 'O' and get_turns() % 2 == 0):\n",
    "        field[next_move()] = ai\n",
    "    \n",
    "    # Clear output\n",
    "    clear_output(wait=True)\n",
    "    \n",
    "    # Add header\n",
    "    elements.append(widgets.HTML(value=\"<h1>TicTacToe</h1>\"))\n",
    "    \n",
    "    # Add field buttons\n",
    "    buttons = []\n",
    "    rows = []\n",
    "    for i in range(9):\n",
    "        btn = widgets.Button(tooltip = str(i), description = field[i], layout = button_layout)\n",
    "        btn.on_click(clicked)\n",
    "        buttons.append(btn)\n",
    "        if (i + 1) % 3 == 0:\n",
    "            rows.append(widgets.Box(buttons))\n",
    "            buttons = []\n",
    "    elements.append(widgets.Box(children = rows, layout = widgets.Layout(flex_flow = 'column')))\n",
    "    \n",
    "    # Add player select\n",
    "    player_btn = widgets.Button(description = 'PLAYER ' + player, layout = widgets.Layout(width = '158px'))\n",
    "    player_btn.on_click(player_change)\n",
    "    \n",
    "    elements.append(player_btn)\n",
    "    \n",
    "    # Add reset button\n",
    "    reset_btn = widgets.Button(description = 'reset', layout = widgets.Layout(width = '158px'))\n",
    "    reset_btn.on_click(reset)\n",
    "    elements.append(reset_btn)\n",
    "    \n",
    "    # Display elements\n",
    "    display(widgets.Box(children = elements, layout = widgets.Layout(flex_flow = 'column')))"
   ]
  },
  {
   "cell_type": "markdown",
   "id": "b239c1f8",
   "metadata": {},
   "source": [
    "## Start Game"
   ]
  },
  {
   "cell_type": "code",
   "execution_count": 314,
   "id": "a27f6c7b",
   "metadata": {},
   "outputs": [
    {
     "data": {
      "application/vnd.jupyter.widget-view+json": {
       "model_id": "9668cb11789a438784f9c6d09c0ae868",
       "version_major": 2,
       "version_minor": 0
      },
      "text/plain": [
       "Box(children=(HTML(value='<h1>TicTacToe</h1>'), Box(children=(Box(children=(Button(description=' ', layout=Lay…"
      ]
     },
     "metadata": {},
     "output_type": "display_data"
    }
   ],
   "source": [
    "field = [' ', ' ', ' ', ' ', ' ', ' ', ' ', ' ', ' ']\n",
    "\n",
    "result = ''\n",
    "\n",
    "player = 'X'\n",
    "\n",
    "render()"
   ]
  }
 ],
 "metadata": {
  "interpreter": {
   "hash": "21cebe2f5e3224dba0c406142577afe24fece8cdabfe36ea782fc3cbe70ab6c4"
  },
  "kernelspec": {
   "display_name": "Python 3",
   "language": "python",
   "name": "python3"
  },
  "language_info": {
   "codemirror_mode": {
    "name": "ipython",
    "version": 3
   },
   "file_extension": ".py",
   "mimetype": "text/x-python",
   "name": "python",
   "nbconvert_exporter": "python",
   "pygments_lexer": "ipython3",
   "version": "3.9.5"
  }
 },
 "nbformat": 4,
 "nbformat_minor": 5
}

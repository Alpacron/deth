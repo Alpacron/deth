{
 "cells": [
  {
   "cell_type": "markdown",
   "id": "ebb53b1a",
   "metadata": {},
   "source": [
    "# Decision Theory Project - TicTacToe\n",
    "*By Jelle Huibregtse and Aron Hemmes*\n",
    "\n",
    "Below is a TicTacToe environment build from scratch with an Agent based on reward."
   ]
  },
  {
   "cell_type": "markdown",
   "id": "b44e2276",
   "metadata": {},
   "source": [
    "## 1. Setup\n",
    "- Loading in some libraries\n",
    "- Configuring layout"
   ]
  },
  {
   "cell_type": "code",
   "execution_count": 1,
   "id": "d535977f",
   "metadata": {},
   "outputs": [
    {
     "data": {
      "application/javascript": [
       "\n",
       "            setTimeout(function() {\n",
       "                var nbb_cell_id = 1;\n",
       "                var nbb_unformatted_code = \"# Libraries\\nimport random\\nfrom enum import Enum\\nfrom IPython.display import display\\nfrom ipywidgets import Layout, Button, HTML, Box\\n\\n# Layout\\nfield_layout = Layout(width=\\\"50px\\\", height=\\\"50px\\\")\\nwide_layout = Layout(width=\\\"158px\\\")\\ncolumn_layout = Layout(flex_flow=\\\"column\\\")\\n\\n# Formatting\\n%load_ext nb_black\";\n",
       "                var nbb_formatted_code = \"# Libraries\\nimport random\\nfrom enum import Enum\\nfrom IPython.display import display\\nfrom ipywidgets import Layout, Button, HTML, Box\\n\\n# Layout\\nfield_layout = Layout(width=\\\"50px\\\", height=\\\"50px\\\")\\nwide_layout = Layout(width=\\\"158px\\\")\\ncolumn_layout = Layout(flex_flow=\\\"column\\\")\\n\\n# Formatting\\n%load_ext nb_black\";\n",
       "                var nbb_cells = Jupyter.notebook.get_cells();\n",
       "                for (var i = 0; i < nbb_cells.length; ++i) {\n",
       "                    if (nbb_cells[i].input_prompt_number == nbb_cell_id) {\n",
       "                        if (nbb_cells[i].get_text() == nbb_unformatted_code) {\n",
       "                             nbb_cells[i].set_text(nbb_formatted_code);\n",
       "                        }\n",
       "                        break;\n",
       "                    }\n",
       "                }\n",
       "            }, 500);\n",
       "            "
      ],
      "text/plain": [
       "<IPython.core.display.Javascript object>"
      ]
     },
     "metadata": {},
     "output_type": "display_data"
    }
   ],
   "source": [
    "# Libraries\n",
    "import random\n",
    "from enum import Enum\n",
    "from IPython.display import display\n",
    "from ipywidgets import Layout, Button, HTML, Box\n",
    "\n",
    "\n",
    "# Layout\n",
    "field_layout = Layout(width=\"50px\", height=\"50px\")\n",
    "wide_layout = Layout(width=\"158px\")\n",
    "column_layout = Layout(flex_flow=\"column\")\n",
    "\n",
    "# Formatting\n",
    "%load_ext nb_black"
   ]
  },
  {
   "cell_type": "code",
   "execution_count": 2,
   "id": "cf218cc4",
   "metadata": {},
   "outputs": [
    {
     "data": {
      "text/html": [
       "<style>\n",
       ".widget-button {\n",
       "    outline: none !important;\n",
       "}\n",
       "\n",
       ".widget-html-content {\n",
       "    white-space: pre-wrap;\n",
       "    line-height: normal !important;\n",
       "}\n",
       "</style>\n"
      ],
      "text/plain": [
       "<IPython.core.display.HTML object>"
      ]
     },
     "metadata": {},
     "output_type": "display_data"
    },
    {
     "data": {
      "application/javascript": [
       "\n",
       "            setTimeout(function() {\n",
       "                var nbb_cell_id = 2;\n",
       "                var nbb_unformatted_code = \"%%HTML\\n<style>\\n.widget-button {\\n    outline: none !important;\\n}\\n\\n.widget-html-content {\\n    white-space: pre-wrap;\\n    line-height: normal !important;\\n}\\n</style>\";\n",
       "                var nbb_formatted_code = \"%%HTML\\n<style>\\n.widget-button {\\n    outline: none !important;\\n}\\n\\n.widget-html-content {\\n    white-space: pre-wrap;\\n    line-height: normal !important;\\n}\\n</style>\";\n",
       "                var nbb_cells = Jupyter.notebook.get_cells();\n",
       "                for (var i = 0; i < nbb_cells.length; ++i) {\n",
       "                    if (nbb_cells[i].input_prompt_number == nbb_cell_id) {\n",
       "                        if (nbb_cells[i].get_text() == nbb_unformatted_code) {\n",
       "                             nbb_cells[i].set_text(nbb_formatted_code);\n",
       "                        }\n",
       "                        break;\n",
       "                    }\n",
       "                }\n",
       "            }, 500);\n",
       "            "
      ],
      "text/plain": [
       "<IPython.core.display.Javascript object>"
      ]
     },
     "metadata": {},
     "output_type": "display_data"
    }
   ],
   "source": [
    "%%HTML\n",
    "<style>\n",
    ".widget-button {\n",
    "    outline: none !important;\n",
    "}\n",
    "\n",
    ".widget-html-content {\n",
    "    white-space: pre-wrap;\n",
    "    line-height: normal !important;\n",
    "}\n",
    "</style>"
   ]
  },
  {
   "cell_type": "markdown",
   "id": "9344c8bd",
   "metadata": {},
   "source": [
    "## 2. Definition of the Environment\n",
    "\n",
    "The code below defines all characteristics of our tic-tac-toe environment with the following characteristics:\n",
    "\n",
    "Environment state:\n",
    "\n",
    "- the player type is either X or O\n",
    "- the opposing player (agent) is either X or O depending on the player\n",
    "- X and O take turns placing an X or O on empty fields untill either one has won or there are no more fields left on the board\n",
    "- a board starts out empty and can contain X and O marks\n",
    "\n",
    "The following methods are described in code below:\n",
    "\n",
    "- `reset()` which completely resets the board to an empty state\n",
    "- `update()` update the visualisation of the current TicTacToe game\n",
    "- `render()` visualisation of the current TicTacToe game\n",
    "- `set_field()` sets a field to a type\n",
    "- `change_player()` the player switches between X and O and resets the board\n",
    "- `field_click()` the player sets a field to a type if the field is None\n",
    "- `get_result()` returns if there's three of the same type in a row\n",
    "- `get_turns()` returns the amount of turns that have passed\n",
    "- `get_turn()` returns which player's turn it currently is"
   ]
  },
  {
   "cell_type": "code",
   "execution_count": null,
   "id": "436da65b",
   "metadata": {},
   "outputs": [],
   "source": [
    "class Type(Enum):\n",
    "    X = 1\n",
    "    O = 2\n",
    "\n",
    "\n",
    "class TicTacToeEnvironment:\n",
    "    def __init__(self, agent=None):\n",
    "        self.board = [None for _ in range(9)]\n",
    "        self.player = Type.X\n",
    "        self.result = None\n",
    "        self.data = []\n",
    "        self.agent = agent\n",
    "        self.__possible_states = [i for i in range(9)]\n",
    "\n",
    "        # Execute agent code\n",
    "        if not agent == None and not self.player == Type.X:\n",
    "            self.agent(self)\n",
    "\n",
    "    def get_turns(self) -> int:\n",
    "        return len([field for field in self.board if not field == None])\n",
    "\n",
    "    def get_turn(self) -> Type:\n",
    "        return Type.X if self.get_turns() % 2 == 0 else Type.O\n",
    "\n",
    "    def get_result(self) -> Type:\n",
    "        # Check for three of the same marks in a row\n",
    "        board = self.board\n",
    "        result = None\n",
    "        if not board[4] == None and (\n",
    "            board[1] == board[4] == board[7]\n",
    "            or board[3] == board[4] == board[5]\n",
    "            or board[0] == board[4] == board[8]\n",
    "            or board[2] == board[4] == board[6]\n",
    "        ):\n",
    "            result = board[4]\n",
    "        elif not board[0] == None and (\n",
    "            board[0] == board[1] == board[2] or board[0] == board[3] == board[6]\n",
    "        ):\n",
    "            result = board[0]\n",
    "        elif not board[8] == None and (\n",
    "            board[8] == board[5] == board[2] or board[8] == board[7] == board[6]\n",
    "        ):\n",
    "            result = board[8]\n",
    "\n",
    "        return result\n",
    "\n",
    "    def field_click(self, e) -> None:\n",
    "        if self.result == None and self.board[int(e.tooltip)] == None:\n",
    "            if self.agent == None or self.get_turn() == self.player:\n",
    "                self.set_field(int(e.tooltip), self.get_turn())\n",
    "\n",
    "    def reset(self, e) -> None:\n",
    "        self.board = [None for _ in range(9)]\n",
    "        self.data = []\n",
    "        self.result = None\n",
    "\n",
    "        # Execute opposing agent code\n",
    "        if not self.agent == None and not self.player == Type.X:\n",
    "            self.agent(self)\n",
    "\n",
    "        self.update()\n",
    "\n",
    "    def change_player(self, e) -> None:\n",
    "        self.player = Type.O if self.player == Type.X else Type.X\n",
    "\n",
    "        self.reset(\"\")\n",
    "\n",
    "    def set_field(self, field, type: Type, reward=1.0) -> None:\n",
    "        # Set field to type\n",
    "        self.board[field] = type\n",
    "\n",
    "        # Add move information to data\n",
    "        if not type == self.player and not self.agent == None:\n",
    "            self.data.append(\n",
    "                \"type: {}　　　field: {}　　　reward: {}\".format(type.name, field, reward)\n",
    "            )\n",
    "\n",
    "        # Set result to current result\n",
    "        self.result = self.get_result()\n",
    "\n",
    "        # Execute opposing agent code\n",
    "        if (\n",
    "            not self.agent == None\n",
    "            and not self.get_turn() == self.player\n",
    "            and self.result == None\n",
    "        ):\n",
    "            self.agent(self)\n",
    "\n",
    "        # Update the board\n",
    "        self.update()\n",
    "\n",
    "    def update(self) -> None:\n",
    "        if hasattr(self, \"field_buttons\"):\n",
    "            for i in range(len(self.field_buttons)):\n",
    "                self.field_buttons[i].description = (\n",
    "                    self.board[i].name if not self.board[i] == None else \" \"\n",
    "                )\n",
    "            if not self.agent == None:\n",
    "                self.player_select_button.description = \"PLAYER \" + self.player.name\n",
    "            self.result_text.value = (\n",
    "                \"winner is <b>{}</b>\".format(self.result.name)\n",
    "                if not self.result == None\n",
    "                else \"\"\n",
    "            )\n",
    "            self.data_box.value = \"\\n\".join(self.data)\n",
    "\n",
    "    def render(self) -> None:\n",
    "        if not hasattr(self, \"field_buttons\"):\n",
    "            self.field_buttons = []\n",
    "            elements = []\n",
    "\n",
    "            # Add header\n",
    "            elements.append(HTML(value=\"<h1>TicTacToe</h1>\"))\n",
    "\n",
    "            # Add field buttons\n",
    "            buttons = []\n",
    "            rows = []\n",
    "            for i in range(9):\n",
    "                btn = Button(tooltip=str(i), layout=field_layout)\n",
    "                btn.on_click(self.field_click)\n",
    "                buttons.append(btn)\n",
    "                self.field_buttons.append(btn)\n",
    "                if (i + 1) % 3 == 0:\n",
    "                    rows.append(Box(buttons))\n",
    "                    buttons = []\n",
    "            elements.append(Box(children=rows, layout=column_layout))\n",
    "\n",
    "            # Add player select\n",
    "            if not self.agent == None:\n",
    "                player_btn = Button(\n",
    "                    description=\"PLAYER \" + self.player.name, layout=wide_layout\n",
    "                )\n",
    "                player_btn.on_click(self.change_player)\n",
    "                self.player_select_button = player_btn\n",
    "\n",
    "                elements.append(player_btn)\n",
    "\n",
    "            # Add reset button\n",
    "            reset_btn = Button(description=\"RESET\", layout=wide_layout)\n",
    "            reset_btn.on_click(self.reset)\n",
    "            elements.append(reset_btn)\n",
    "\n",
    "            # Add result text\n",
    "            result_text = HTML()\n",
    "            elements.append(result_text)\n",
    "            self.result_text = result_text\n",
    "\n",
    "            # Display elements and data\n",
    "            all_elements_box = Box(children=elements, layout=column_layout)\n",
    "            self.data_box = HTML()\n",
    "            display(Box([all_elements_box, self.data_box]))\n",
    "\n",
    "    def get_possible_states(self) -> List[int]:\n",
    "        return self.__possible_states"
   ]
  },
  {
   "cell_type": "markdown",
   "id": "67524fb2",
   "metadata": {},
   "source": [
    "## 3. No Agent (player vs player)"
   ]
  },
  {
   "cell_type": "code",
   "execution_count": 9,
   "id": "e7b7036b",
   "metadata": {},
   "outputs": [
    {
     "data": {
      "application/vnd.jupyter.widget-view+json": {
       "model_id": "7f2eca00aa11489890a01f1b8abcbe08",
       "version_major": 2,
       "version_minor": 0
      },
      "text/plain": [
       "Box(children=(Box(children=(HTML(value='<h1>TicTacToe</h1>'), Box(children=(Box(children=(Button(layout=Layout…"
      ]
     },
     "metadata": {},
     "output_type": "display_data"
    },
    {
     "data": {
      "application/javascript": [
       "\n",
       "            setTimeout(function() {\n",
       "                var nbb_cell_id = 9;\n",
       "                var nbb_unformatted_code = \"tictactoe = TicTacToeEnvironment(None)\\ntictactoe.render()\";\n",
       "                var nbb_formatted_code = \"tictactoe = TicTacToeEnvironment(None)\\ntictactoe.render()\";\n",
       "                var nbb_cells = Jupyter.notebook.get_cells();\n",
       "                for (var i = 0; i < nbb_cells.length; ++i) {\n",
       "                    if (nbb_cells[i].input_prompt_number == nbb_cell_id) {\n",
       "                        if (nbb_cells[i].get_text() == nbb_unformatted_code) {\n",
       "                             nbb_cells[i].set_text(nbb_formatted_code);\n",
       "                        }\n",
       "                        break;\n",
       "                    }\n",
       "                }\n",
       "            }, 500);\n",
       "            "
      ],
      "text/plain": [
       "<IPython.core.display.Javascript object>"
      ]
     },
     "metadata": {},
     "output_type": "display_data"
    }
   ],
   "source": [
    "tictactoe = TicTacToeEnvironment(None)\n",
    "tictactoe.render()"
   ]
  },
  {
   "cell_type": "markdown",
   "id": "847a8aa0",
   "metadata": {},
   "source": [
    "## 4. Random Agent\n",
    "\n",
    "The agent places X or O marks on random empty fields."
   ]
  },
  {
   "cell_type": "code",
   "execution_count": 10,
   "id": "a11aef49",
   "metadata": {
    "scrolled": false
   },
   "outputs": [
    {
     "data": {
      "application/vnd.jupyter.widget-view+json": {
       "model_id": "bf1e7d17113c4dff9c3fe0249354df84",
       "version_major": 2,
       "version_minor": 0
      },
      "text/plain": [
       "Box(children=(Box(children=(HTML(value='<h1>TicTacToe</h1>'), Box(children=(Box(children=(Button(layout=Layout…"
      ]
     },
     "metadata": {},
     "output_type": "display_data"
    },
    {
     "data": {
      "application/javascript": [
       "\n",
       "            setTimeout(function() {\n",
       "                var nbb_cell_id = 10;\n",
       "                var nbb_unformatted_code = \"# Calculate random move for agent\\ndef random_move(tictactoe: TicTacToeEnvironment) -> None:\\n    # Getting all the empty fields\\n    empty_fields = [\\n        f for f in range(len(tictactoe.board)) if tictactoe.board[f] == None\\n    ]\\n\\n    # Choose random empty field\\n    if len(empty_fields) > 0:\\n        agent_type = Type.O if tictactoe.player == Type.X else Type.X\\n        tictactoe.set_field(random.choice(empty_fields), agent_type)\\n\\n\\n# Initializing environment and rendering\\ntictactoe = TicTacToeEnvironment(random_move)\\ntictactoe.render()\";\n",
       "                var nbb_formatted_code = \"# Calculate random move for agent\\ndef random_move(tictactoe: TicTacToeEnvironment) -> None:\\n    # Getting all the empty fields\\n    empty_fields = [\\n        f for f in range(len(tictactoe.board)) if tictactoe.board[f] == None\\n    ]\\n\\n    # Choose random empty field\\n    if len(empty_fields) > 0:\\n        agent_type = Type.O if tictactoe.player == Type.X else Type.X\\n        tictactoe.set_field(random.choice(empty_fields), agent_type)\\n\\n\\n# Initializing environment and rendering\\ntictactoe = TicTacToeEnvironment(random_move)\\ntictactoe.render()\";\n",
       "                var nbb_cells = Jupyter.notebook.get_cells();\n",
       "                for (var i = 0; i < nbb_cells.length; ++i) {\n",
       "                    if (nbb_cells[i].input_prompt_number == nbb_cell_id) {\n",
       "                        if (nbb_cells[i].get_text() == nbb_unformatted_code) {\n",
       "                             nbb_cells[i].set_text(nbb_formatted_code);\n",
       "                        }\n",
       "                        break;\n",
       "                    }\n",
       "                }\n",
       "            }, 500);\n",
       "            "
      ],
      "text/plain": [
       "<IPython.core.display.Javascript object>"
      ]
     },
     "metadata": {},
     "output_type": "display_data"
    }
   ],
   "source": [
    "# Calculate random move for agent\n",
    "def random_move(tictactoe: TicTacToeEnvironment) -> None:\n",
    "    # Getting all the empty fields\n",
    "    empty_fields = [\n",
    "        f for f in range(len(tictactoe.board)) if tictactoe.board[f] == None\n",
    "    ]\n",
    "\n",
    "    # Choose random empty field\n",
    "    if len(empty_fields) > 0:\n",
    "        agent_type = Type.O if tictactoe.player == Type.X else Type.X\n",
    "        tictactoe.set_field(random.choice(empty_fields), agent_type)\n",
    "\n",
    "\n",
    "# Initializing environment and rendering\n",
    "tictactoe = TicTacToeEnvironment(random_move)\n",
    "tictactoe.render()"
   ]
  },
  {
   "cell_type": "markdown",
   "id": "717bc2cb",
   "metadata": {},
   "source": [
    "## 5. Decisions based on reward agent\n",
    "\n",
    "Next we have the code for the agent that makes the decision based on reward. Since, we are working with a **Markov Decision Process** (MDP), we also have to define a reward function $R(s,a)$ that returns a value based on performing action $a$ in state $s$ both of which have been previously defined. Usually, we also define a transition function $T(s,a,s')$ that gives the probability of moving from a state $s$ to $s'$ when performing action $a$. This is only used in an environment where we are unsure or where it is unclear if some action always gives a predictable outcome. However, since tic-tac-toe is a simple game where every action is defined, we won't be needing a transition function.\n",
    "\n",
    "We will define the reward function $R(s,a)$ as follows:\n",
    "- Trivially, if the agent performs some action $â$ that wins the game from $s$, then $R(s,â) = 1$.\n",
    "- If the agent makes a mistake where the wrong action $ã$ loses the game, we then say $R(s,ã) = -1$.\n",
    "- When nothing happens we can simply say $R(s,a)=0$.\n",
    "\n",
    "We will be using Q-learning to find an optimal policy that the agent uses to decide which actions to pick. We will simply denote our policy as the action $a$ that maximises a function $Q(s,a)$ when the agent is in some state $s$. So, we would have something like:\n",
    "\n",
    "$$a^{best} = \\text{arg}\\max_{a\\in A}Q(s, a)$$\n",
    "\n",
    "For every state, each action has an associated value of $Q$ and we want to pick the $Q$ with the highest value. So, to compute $Q(s,a)$, the agent has to go over each possible pairs of states and actions while getting feedback from the reward function. We will update $Q(s,a)$ iteratively by letting the agent play. We will update $Q$ as follows:\n",
    "\n",
    "$$Q(s,a)^{new} \\leftarrow (1 - \\alpha)\\cdot Q(s,a)+\\alpha\\cdot(R(s,a)+\\gamma\\cdot\\max_{â\\in A}Q(ŝ, â))$$\n",
    "\n",
    "- We perform an action $a$ in the current state $s$.\n",
    "- $\\max_{â\\in A}Q(ŝ, â))$ takes into account future states and returns the largest $Q$, ŝ is the state that is the new state after performing $a$. Then $â$ is the best action.\n",
    "- $\\alpha$ is the learning rate that decides to what extent we overwrite the old value, we will use $\\alpha=0.1$.\n",
    "- The discount factor $\\gamma$ decides how much future rewards should be weighted compared to present rewards at the current time step $t$. We will be using $\\gamma=0.9$.\n",
    "\n",
    "We will find (read: learn) the best values for $Q(s,a)$. This will be done by letting two agents play against each other. To make sure it is balanced and that agents also seek out new options we will introduce a probability $\\epsilon$ that an agent picks a random action."
   ]
  },
  {
   "cell_type": "code",
   "execution_count": 13,
   "id": "2fb4068e",
   "metadata": {
    "scrolled": false
   },
   "outputs": [
    {
     "data": {
      "application/vnd.jupyter.widget-view+json": {
       "model_id": "2b77e584b24b49b384f8ecf4ba61e0e8",
       "version_major": 2,
       "version_minor": 0
      },
      "text/plain": [
       "Box(children=(Box(children=(HTML(value='<h1>TicTacToe</h1>'), Box(children=(Box(children=(Button(layout=Layout…"
      ]
     },
     "metadata": {},
     "output_type": "display_data"
    },
    {
     "data": {
      "application/javascript": [
       "\n",
       "            setTimeout(function() {\n",
       "                var nbb_cell_id = 13;\n",
       "                var nbb_unformatted_code = \"# Calculate the best move for agent based on reward\\ndef reward_based_move(tictactoe: TicTacToeEnvironment) -> None:\\n    # Getting all the empty fields\\n    empty_fields = [\\n        [f, 0.0] for f in range(len(tictactoe.board)) if tictactoe.board[f] == None\\n    ]\\n\\n    if len(empty_fields) > 0:\\n        # Calculate reward for empty fields\\n\\n        # Choose field with highest reward\\n        highest_reward = max([x[1] for x in empty_fields])\\n        highest_field = random.choice(\\n            [field for field in empty_fields if field[1] == highest_reward]\\n        )\\n        agent_type = Type.O if tictactoe.player == Type.X else Type.X\\n        tictactoe.set_field(highest_field[0], agent_type, highest_field[1])\\n\\n\\n# Initializing environment and rendering\\ntictactoe = TicTacToeEnvironment(reward_based_move)\\ntictactoe.render()\";\n",
       "                var nbb_formatted_code = \"# Calculate the best move for agent based on reward\\ndef reward_based_move(tictactoe: TicTacToeEnvironment) -> None:\\n    # Getting all the empty fields\\n    empty_fields = [\\n        [f, 0.0] for f in range(len(tictactoe.board)) if tictactoe.board[f] == None\\n    ]\\n\\n    if len(empty_fields) > 0:\\n        # Calculate reward for empty fields\\n\\n        # Choose field with highest reward\\n        highest_reward = max([x[1] for x in empty_fields])\\n        highest_field = random.choice(\\n            [field for field in empty_fields if field[1] == highest_reward]\\n        )\\n        agent_type = Type.O if tictactoe.player == Type.X else Type.X\\n        tictactoe.set_field(highest_field[0], agent_type, highest_field[1])\\n\\n\\n# Initializing environment and rendering\\ntictactoe = TicTacToeEnvironment(reward_based_move)\\ntictactoe.render()\";\n",
       "                var nbb_cells = Jupyter.notebook.get_cells();\n",
       "                for (var i = 0; i < nbb_cells.length; ++i) {\n",
       "                    if (nbb_cells[i].input_prompt_number == nbb_cell_id) {\n",
       "                        if (nbb_cells[i].get_text() == nbb_unformatted_code) {\n",
       "                             nbb_cells[i].set_text(nbb_formatted_code);\n",
       "                        }\n",
       "                        break;\n",
       "                    }\n",
       "                }\n",
       "            }, 500);\n",
       "            "
      ],
      "text/plain": [
       "<IPython.core.display.Javascript object>"
      ]
     },
     "metadata": {},
     "output_type": "display_data"
    }
   ],
   "source": [
    "# Calculate the best move for agent based on reward\n",
    "def reward_based_move(tictactoe: TicTacToeEnvironment) -> None:\n",
    "    # Getting all the empty fields\n",
    "    empty_fields = [\n",
    "        [f, 0.0] for f in range(len(tictactoe.board)) if tictactoe.board[f] == None\n",
    "    ]\n",
    "\n",
    "    if len(empty_fields) > 0:\n",
    "        # Calculate reward for empty fields\n",
    "\n",
    "        # Choose field with highest reward\n",
    "        highest_reward = max([x[1] for x in empty_fields])\n",
    "        highest_field = random.choice(\n",
    "            [field for field in empty_fields if field[1] == highest_reward]\n",
    "        )\n",
    "        agent_type = Type.O if tictactoe.player == Type.X else Type.X\n",
    "        tictactoe.set_field(highest_field[0], agent_type, highest_field[1])\n",
    "\n",
    "\n",
    "# Initializing environment and rendering\n",
    "tictactoe = TicTacToeEnvironment(reward_based_move)\n",
    "tictactoe.render()"
   ]
  },
  {
   "cell_type": "markdown",
   "id": "3b495613",
   "metadata": {},
   "source": [
    "## Sources\n",
    "- For reinforcement learning (Q-learning): https://towardsdatascience.com/how-to-play-tic-tac-toe-using-reinforcement-learning-9604130e56f6"
   ]
  }
 ],
 "metadata": {
  "interpreter": {
   "hash": "21cebe2f5e3224dba0c406142577afe24fece8cdabfe36ea782fc3cbe70ab6c4"
  },
  "kernelspec": {
   "display_name": "Python 3",
   "language": "python",
   "name": "python3"
  },
  "language_info": {
   "codemirror_mode": {
    "name": "ipython",
    "version": 3
   },
   "file_extension": ".py",
   "mimetype": "text/x-python",
   "name": "python",
   "nbconvert_exporter": "python",
   "pygments_lexer": "ipython3",
   "version": "3.8.2"
  }
 },
 "nbformat": 4,
 "nbformat_minor": 5
}

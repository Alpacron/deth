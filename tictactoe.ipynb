{
 "cells": [
  {
   "cell_type": "markdown",
   "id": "ebb53b1a",
   "metadata": {},
   "source": [
    "# Decision Theory Project\n",
    "*By Jelle Huibregtse and Aron Hemmes*\n",
    "\n",
    "We will create a tic-tac-toe environment with the following characteristics.\n",
    "\n",
    "Environment state:\n",
    "\n",
    "- the agent is one of the nine squares\n",
    "- an X or O can be placed on every empty square"
   ]
  },
  {
   "cell_type": "code",
   "execution_count": 75,
   "id": "d535977f",
   "metadata": {},
   "outputs": [],
   "source": [
    "from IPython.display import display, clear_output\n",
    "import ipywidgets as widgets"
   ]
  },
  {
   "cell_type": "markdown",
   "id": "717bc2cb",
   "metadata": {},
   "source": [
    "## AI code\n",
    "\n",
    "Next we have the code for the AI and the util used for it"
   ]
  },
  {
   "cell_type": "code",
   "execution_count": 76,
   "id": "2fb4068e",
   "metadata": {},
   "outputs": [],
   "source": [
    "# Count turns that have passed\n",
    "def get_turns():\n",
    "    global field\n",
    "    n = 0\n",
    "    for i in range(len(field)):\n",
    "        if not field[i] == ' ':\n",
    "            n += 1\n",
    "    return n\n",
    "\n",
    "# Check which player's turn it currently is\n",
    "def get_turn():\n",
    "    if get_turns() % 2 == 0:\n",
    "        return 'X'\n",
    "    return 'O'\n",
    "\n",
    "# Calculate the best move for AI\n",
    "def ai_move():\n",
    "    global field, player, result\n",
    "    \n",
    "    ai = 'X'\n",
    "    if player == 'X':\n",
    "        ai = 'O'\n",
    "    \n",
    "    # If there's no result and it's the ai's turn\n",
    "    if result == '' and get_turn() == ai:\n",
    "        reward = 0\n",
    "        "
   ]
  },
  {
   "cell_type": "markdown",
   "id": "9344c8bd",
   "metadata": {},
   "source": [
    "## Setup display"
   ]
  },
  {
   "cell_type": "code",
   "execution_count": 77,
   "id": "436da65b",
   "metadata": {},
   "outputs": [],
   "source": [
    "button_layout = widgets.Layout(width = '50px', height = '50px')\n",
    "\n",
    "# Set field action\n",
    "def player_move(e):\n",
    "    global field, player, result\n",
    "    \n",
    "    # If there's no result and it's the player's turn\n",
    "    if result == '' and get_turn() == player:\n",
    "        # If field space isn't occupied \n",
    "        if field[int(e.tooltip)] == ' ':\n",
    "            field[int(e.tooltip)] = player\n",
    "            render()\n",
    "\n",
    "# Reset field action\n",
    "def reset(e):\n",
    "    global field\n",
    "    if not field == [' ', ' ', ' ', ' ', ' ', ' ', ' ', ' ', ' ']:\n",
    "        field = [' ', ' ', ' ', ' ', ' ', ' ', ' ', ' ', ' ']\n",
    "        render()\n",
    "    elif e == '':\n",
    "        render()\n",
    "\n",
    "# Change player action\n",
    "def player_change(e):\n",
    "    global player\n",
    "    if player == 'X':\n",
    "        player = 'O'\n",
    "    else:\n",
    "        player = 'X'\n",
    "    reset('')\n",
    "    \n",
    "def render():\n",
    "    global field, player, result\n",
    "    elements = []\n",
    "    \n",
    "    # Clear output\n",
    "    clear_output(wait=True)\n",
    "    \n",
    "    # Calculate AI's move\n",
    "    ai_move()\n",
    "    \n",
    "    # Add header\n",
    "    elements.append(widgets.HTML(value=\"<h1>TicTacToe</h1>\"))\n",
    "    \n",
    "    # Add field buttons\n",
    "    buttons = []\n",
    "    rows = []\n",
    "    for i in range(9):\n",
    "        btn = widgets.Button(tooltip = str(i), description = field[i], layout = button_layout)\n",
    "        btn.on_click(player_move)\n",
    "        buttons.append(btn)\n",
    "        if (i + 1) % 3 == 0:\n",
    "            rows.append(widgets.Box(buttons))\n",
    "            buttons = []\n",
    "    elements.append(widgets.Box(children = rows, layout = widgets.Layout(flex_flow = 'column')))\n",
    "    \n",
    "    # Add player select\n",
    "    player_btn = widgets.Button(description = 'PLAYER ' + player, layout = widgets.Layout(width = '158px'))\n",
    "    player_btn.on_click(player_change)\n",
    "    \n",
    "    elements.append(player_btn)\n",
    "    \n",
    "    # Add reset button\n",
    "    reset_btn = widgets.Button(description = 'reset', layout = widgets.Layout(width = '158px'))\n",
    "    reset_btn.on_click(reset)\n",
    "    elements.append(reset_btn)\n",
    "    \n",
    "    # Display elements\n",
    "    display(widgets.Box(children = elements, layout = widgets.Layout(flex_flow = 'column')))"
   ]
  },
  {
   "cell_type": "markdown",
   "id": "b239c1f8",
   "metadata": {},
   "source": [
    "## Start Game\n",
    "\n",
    "Finally we can start the game"
   ]
  },
  {
   "cell_type": "code",
   "execution_count": 78,
   "id": "a27f6c7b",
   "metadata": {},
   "outputs": [
    {
     "data": {
      "application/vnd.jupyter.widget-view+json": {
       "model_id": "ba8ccd2da1c44bcc83c2945e3b5c1afd",
       "version_major": 2,
       "version_minor": 0
      },
      "text/plain": [
       "Box(children=(HTML(value='<h1>TicTacToe</h1>'), Box(children=(Box(children=(Button(description=' ', layout=Lay…"
      ]
     },
     "metadata": {},
     "output_type": "display_data"
    }
   ],
   "source": [
    "field = [' ', ' ', ' ', ' ', ' ', ' ', ' ', ' ', ' ']\n",
    "\n",
    "result = ''\n",
    "\n",
    "player = 'X'\n",
    "\n",
    "render()"
   ]
  }
 ],
 "metadata": {
  "interpreter": {
   "hash": "21cebe2f5e3224dba0c406142577afe24fece8cdabfe36ea782fc3cbe70ab6c4"
  },
  "kernelspec": {
   "display_name": "Python 3",
   "language": "python",
   "name": "python3"
  },
  "language_info": {
   "codemirror_mode": {
    "name": "ipython",
    "version": 3
   },
   "file_extension": ".py",
   "mimetype": "text/x-python",
   "name": "python",
   "nbconvert_exporter": "python",
   "pygments_lexer": "ipython3",
   "version": "3.9.5"
  }
 },
 "nbformat": 4,
 "nbformat_minor": 5
}

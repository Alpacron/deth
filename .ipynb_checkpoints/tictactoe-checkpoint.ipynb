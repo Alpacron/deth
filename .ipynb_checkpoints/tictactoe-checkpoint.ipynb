{
 "cells": [
  {
   "cell_type": "markdown",
   "id": "ebb53b1a",
   "metadata": {},
   "source": [
    "# Decision Theory Project - TicTacToe\n",
    "*By Jelle Huibregtse and Aron Hemmes*\n",
    "\n",
    "Below is a TicTacToe environment with an AI based on reward"
   ]
  },
  {
   "cell_type": "markdown",
   "id": "40ff807e",
   "metadata": {},
   "source": [
    "## Setup\n",
    "- Loading in some libraries\n",
    "- Configuring layout"
   ]
  },
  {
   "cell_type": "code",
   "execution_count": 315,
   "id": "d535977f",
   "metadata": {},
   "outputs": [],
   "source": [
    "# Libraries\n",
    "from enum import Enum\n",
    "from random import random, choice\n",
    "from IPython.display import display, clear_output\n",
    "import ipywidgets as widgets\n",
    "\n",
    "# Layout\n",
    "field_layout = widgets.Layout(width = '50px', height = '50px')\n",
    "wide_layout = widgets.Layout(width = '158px')\n",
    "column_layout = widgets.Layout(flex_flow = 'column')"
   ]
  },
  {
   "cell_type": "markdown",
   "id": "9344c8bd",
   "metadata": {},
   "source": [
    "## 1. Definition of the Environment\n",
    "\n",
    "the code below defines all characteristics of a TicTacToe Environment:\n",
    "\n",
    "Environment state:\n",
    "- the player is either X or O\n",
    "- the opposing player (agent) is either X or O depending on the player\n",
    "- X and O take turns placing an X or O on empty fields untill either one has won or there are no more fields left on the board\n",
    "- a board starts out empty and can contain X and O marks\n",
    "\n",
    "The following methods are described in code below:\n",
    "- reset() which completely resets the board to an empty state\n",
    "- step() processes the game\n",
    "- render() visualisation of the current TicTacToe game\n",
    "- change_player() the player switches between X and O and resets the board\n",
    "- player_move() the player places either an X or O on an empty field\n",
    "- get_turns() returns the amount of turns that have passed\n",
    "- get_turn() returns which player's turn it currently is"
   ]
  },
  {
   "cell_type": "code",
   "execution_count": 316,
   "id": "436da65b",
   "metadata": {},
   "outputs": [],
   "source": [
    "class AgentType(Enum):\n",
    "    Random = 1\n",
    "    Reward = 2\n",
    "\n",
    "class TicTacToeEnvironment():\n",
    "    def __init__(self, action):\n",
    "        self.board = [' ', ' ', ' ', ' ', ' ', ' ', ' ', ' ', ' ']\n",
    "        self.player = 'X'\n",
    "        self.result = ''\n",
    "        self.action = action\n",
    "        \n",
    "    #=========================================================\n",
    "    # util for the environment\n",
    "    #=========================================================\n",
    "\n",
    "    # Count turns that have passed\n",
    "    def get_turns(self):\n",
    "        n = 0\n",
    "        for i in range(len(self.board)):\n",
    "            if not self.board[i] == ' ':\n",
    "                n += 1\n",
    "        return n\n",
    "\n",
    "    # Check which player's turn it currently is\n",
    "    def get_turn(self):\n",
    "        if self.get_turns() % 2 == 0:\n",
    "            return 'X'\n",
    "        return 'O'\n",
    "\n",
    "    # Check for three of the same marks in a row\n",
    "    def check_result(self):\n",
    "        board = self.board\n",
    "        if not board[4] == ' ' and (board[1] == board[4] == board[7] or board[3] == board[4] == board[5] or board[0] == board[4] == board[8] or board[2] == board[4] == board[6]):\n",
    "            self.result = board[4]\n",
    "        elif not board[0] == ' ' and (board[0] == board[1] == board[2] or board[0] == board[3] == board[6]):\n",
    "            self.result = board[0]\n",
    "        elif not board[8] == ' ' and (board[8] == board[5] == board[2] or board[8] == board[7] == board[6]):\n",
    "            self.result = board[8]\n",
    "\n",
    "    #=========================================================\n",
    "    # actions\n",
    "    #=========================================================\n",
    "\n",
    "    # Set board action\n",
    "    def player_move(self, e):\n",
    "        # If there's no result and it's the player's turn\n",
    "        if self.result == '' and self.get_turn() == self.player:\n",
    "            # If board space isn't occupied \n",
    "            if self.board[int(e.tooltip)] == ' ':\n",
    "                self.board[int(e.tooltip)] = self.player\n",
    "                self.step()\n",
    "\n",
    "    # Reset board action\n",
    "    def reset(self, e):\n",
    "        if not self.board == [' ', ' ', ' ', ' ', ' ', ' ', ' ', ' ', ' ']:\n",
    "            self.board = [' ', ' ', ' ', ' ', ' ', ' ', ' ', ' ', ' ']\n",
    "            self.result = ''\n",
    "            self.step()\n",
    "        elif e == '':\n",
    "            self.step()\n",
    "\n",
    "    # Change player action\n",
    "    def change_player(self, e):\n",
    "        if self.player == 'X':\n",
    "            self.player = 'O'\n",
    "        else:\n",
    "            self.player = 'X'\n",
    "        self.reset('')\n",
    "\n",
    "    # Processing the game\n",
    "    def step(self):\n",
    "        # Check if anyone has won\n",
    "        self.check_result();\n",
    "        \n",
    "        # Calculate agent's move\n",
    "        if self.action == AgentType.Random:\n",
    "            random_move(self.board, self.player, self.result)\n",
    "        elif self.action == AgentType.Reward:\n",
    "            reward_based_move(self.board, self.player, self.result)\n",
    "        \n",
    "        # Check if anyone has won\n",
    "        self.check_result();\n",
    "        \n",
    "        # Render board\n",
    "        self.render()\n",
    "    \n",
    "    # Render the board\n",
    "    def render(self):\n",
    "        elements = []\n",
    "\n",
    "        # Clear output\n",
    "        clear_output(wait=True)\n",
    "\n",
    "        # Add header\n",
    "        text = '<h1>TicTacToe</h1>'\n",
    "        if not self.result == '':\n",
    "            text += ' Winner is <b>{}</b>'.format(self.result)\n",
    "        elements.append(widgets.HTML(value = text))\n",
    "\n",
    "        # Add board buttons\n",
    "        buttons = []\n",
    "        rows = []\n",
    "        for i in range(9):\n",
    "            btn = widgets.Button(tooltip = str(i), description = self.board[i], layout = field_layout)\n",
    "            btn.on_click(self.player_move)\n",
    "            buttons.append(btn)\n",
    "            if (i + 1) % 3 == 0:\n",
    "                rows.append(widgets.Box(buttons))\n",
    "                buttons = []\n",
    "        elements.append(widgets.Box(children = rows, layout = column_layout))\n",
    "\n",
    "        # Add player select\n",
    "        player_btn = widgets.Button(description = 'PLAYER ' + self.player, layout = wide_layout)\n",
    "        player_btn.on_click(self.change_player)\n",
    "\n",
    "        elements.append(player_btn)\n",
    "\n",
    "        # Add reset button\n",
    "        reset_btn = widgets.Button(description = 'reset', layout = wide_layout)\n",
    "        reset_btn.on_click(self.reset)\n",
    "        elements.append(reset_btn)\n",
    "\n",
    "        # Display elements\n",
    "        display(widgets.Box(children = elements, layout = column_layout))"
   ]
  },
  {
   "cell_type": "markdown",
   "id": "5d076bf3",
   "metadata": {},
   "source": [
    "## 2. Random Agent\n",
    "\n",
    "An agent which places random X or O marks on random empty fields"
   ]
  },
  {
   "cell_type": "code",
   "execution_count": 317,
   "id": "382c0907",
   "metadata": {},
   "outputs": [
    {
     "data": {
      "application/vnd.jupyter.widget-view+json": {
       "model_id": "e41dbcd0f9d14fb1911f74e1426e4997",
       "version_major": 2,
       "version_minor": 0
      },
      "text/plain": [
       "Box(children=(HTML(value='<h1>TicTacToe</h1> Winner is <b>X</b>'), Box(children=(Box(children=(Button(descript…"
      ]
     },
     "metadata": {},
     "output_type": "display_data"
    }
   ],
   "source": [
    "# Initializing environment\n",
    "random_environment = TicTacToeEnvironment(AgentType.Random)\n",
    "\n",
    "# Code for random move\n",
    "def random_move(board, player, result):\n",
    "    agent = 'X'\n",
    "    if player == 'X':\n",
    "        agent = 'O'\n",
    "    \n",
    "    # If there's no result and it's the agent's turn\n",
    "    if result == '' and random_environment.get_turn() == agent:\n",
    "        empty_fields = []\n",
    "        for field in range(len(board)):\n",
    "            if board[field] == ' ':\n",
    "                empty_fields.append(field)\n",
    "        board[choice(empty_fields)] = agent\n",
    "\n",
    "\n",
    "# Rendering the board\n",
    "random_environment.render()"
   ]
  },
  {
   "cell_type": "markdown",
   "id": "717bc2cb",
   "metadata": {},
   "source": [
    "## 3. Decisions based on Reward\n",
    "\n",
    "Next we have the code for the AI and the util used for it"
   ]
  },
  {
   "cell_type": "code",
   "execution_count": 318,
   "id": "2fb4068e",
   "metadata": {},
   "outputs": [
    {
     "data": {
      "application/vnd.jupyter.widget-view+json": {
       "model_id": "cecc6f8166ac4ae4ab8bee5580f70f29",
       "version_major": 2,
       "version_minor": 0
      },
      "text/plain": [
       "Box(children=(HTML(value='<h1>TicTacToe</h1>'), Box(children=(Box(children=(Button(description=' ', layout=Lay…"
      ]
     },
     "metadata": {},
     "output_type": "display_data"
    }
   ],
   "source": [
    "# Initializing environment\n",
    "reward_environment = TicTacToeEnvironment(AgentType.Reward)\n",
    "\n",
    "# Calculate the best move for agent based on reward\n",
    "def reward_based_move(board, player, result):\n",
    "    agent = 'X'\n",
    "    if player == 'X':\n",
    "        agent = 'O'\n",
    "    \n",
    "    # If there's no result and it's the ai's turn\n",
    "    if result == '' and get_turn() == agent:\n",
    "        reward = 0\n",
    "\n",
    "#=========================================================\n",
    "# rendering the board\n",
    "#=========================================================\n",
    "reward_environment.render()"
   ]
  }
 ],
 "metadata": {
  "interpreter": {
   "hash": "21cebe2f5e3224dba0c406142577afe24fece8cdabfe36ea782fc3cbe70ab6c4"
  },
  "kernelspec": {
   "display_name": "Python 3",
   "language": "python",
   "name": "python3"
  },
  "language_info": {
   "codemirror_mode": {
    "name": "ipython",
    "version": 3
   },
   "file_extension": ".py",
   "mimetype": "text/x-python",
   "name": "python",
   "nbconvert_exporter": "python",
   "pygments_lexer": "ipython3",
   "version": "3.9.5"
  }
 },
 "nbformat": 4,
 "nbformat_minor": 5
}

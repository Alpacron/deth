{
 "cells": [
  {
   "cell_type": "markdown",
   "id": "ebb53b1a",
   "metadata": {},
   "source": [
    "# Decision Theory Project - TicTacToe\n",
    "*By Jelle Huibregtse and Aron Hemmes*\n",
    "\n",
    "Below is a TicTacToe environment build from scratch with an Agent based on reward"
   ]
  },
  {
   "cell_type": "markdown",
   "id": "b44e2276",
   "metadata": {},
   "source": [
    "## 1. Setup\n",
    "- Loading in some libraries\n",
    "- Configuring layout"
   ]
  },
  {
   "cell_type": "code",
   "execution_count": 1,
   "id": "d535977f",
   "metadata": {},
   "outputs": [],
   "source": [
    "# Libraries\n",
    "import random\n",
    "from enum import Enum\n",
    "from IPython.display import display\n",
    "from ipywidgets import Layout, Button, HTML, Box\n",
    "\n",
    "# Layout\n",
    "field_layout = Layout(width = '50px', height = '50px')\n",
    "wide_layout = Layout(width = '158px')\n",
    "column_layout = Layout(flex_flow = 'column')"
   ]
  },
  {
   "cell_type": "code",
   "execution_count": 2,
   "id": "cf218cc4",
   "metadata": {},
   "outputs": [
    {
     "data": {
      "text/html": [
       "<style>\n",
       ".widget-button {\n",
       "    outline: none !important;\n",
       "}\n",
       "\n",
       ".widget-html-content {\n",
       "    white-space: pre-wrap;\n",
       "    line-height: normal !important;\n",
       "}\n",
       "</style>\n"
      ],
      "text/plain": [
       "<IPython.core.display.HTML object>"
      ]
     },
     "metadata": {},
     "output_type": "display_data"
    }
   ],
   "source": [
    "%%HTML\n",
    "<style>\n",
    ".widget-button {\n",
    "    outline: none !important;\n",
    "}\n",
    "\n",
    ".widget-html-content {\n",
    "    white-space: pre-wrap;\n",
    "    line-height: normal !important;\n",
    "}\n",
    "</style>"
   ]
  },
  {
   "cell_type": "markdown",
   "id": "9344c8bd",
   "metadata": {},
   "source": [
    "## 2. Definition of the Environment\n",
    "\n",
    "the code below defines all characteristics of a TicTacToe Environment:\n",
    "\n",
    "Environment state:\n",
    "- the player type is either X or O\n",
    "- the opposing player (agent) is either X or O depending on the player\n",
    "- X and O take turns placing an X or O on empty fields untill either one has won or there are no more fields left on the board\n",
    "- a board starts out empty and can contain X and O marks\n",
    "\n",
    "The following methods are described in code below:\n",
    "- reset() which completely resets the board to an empty state\n",
    "- update() update the visualisation of the current TicTacToe game\n",
    "- render() visualisation of the current TicTacToe game\n",
    "- set_field() sets a field to a type\n",
    "- change_player() the player switches between X and O and resets the board\n",
    "- field_click() the player sets a field to a type if the field is None\n",
    "- get_result() returns if there's three of the same type in a row\n",
    "- get_turns() returns the amount of turns that have passed\n",
    "- get_turn() returns which player's turn it currently is"
   ]
  },
  {
   "cell_type": "code",
   "execution_count": 3,
   "id": "436da65b",
   "metadata": {},
   "outputs": [],
   "source": [
    "class Type(Enum):\n",
    "    X = 1\n",
    "    O = 2\n",
    "\n",
    "class TicTacToeEnvironment():\n",
    "    def __init__(self, agent = None):\n",
    "        self.board = [None for _ in range(9)]\n",
    "        self.player = Type.X\n",
    "        self.result = None\n",
    "        self.data = []\n",
    "        self.agent = agent\n",
    "        \n",
    "        # Execute agent code\n",
    "        if not agent == None and not self.player == Type.X:\n",
    "            self.agent(self)\n",
    "\n",
    "    def get_turns(self) -> int:\n",
    "        return len([field for field in self.board if not field == None])\n",
    "\n",
    "    def get_turn(self) -> Type:\n",
    "        return Type.X if self.get_turns() % 2 == 0 else Type.O\n",
    "\n",
    "    def get_result(self) -> Type:\n",
    "        # Check for three of the same marks in a row\n",
    "        board = self.board\n",
    "        result = None\n",
    "        if not board[4] == None and (board[1] == board[4] == board[7] or board[3] == board[4] == board[5] or board[0] == board[4] == board[8] or board[2] == board[4] == board[6]):\n",
    "            result = board[4]\n",
    "        elif not board[0] == None and (board[0] == board[1] == board[2] or board[0] == board[3] == board[6]):\n",
    "            result = board[0]\n",
    "        elif not board[8] == None and (board[8] == board[5] == board[2] or board[8] == board[7] == board[6]):\n",
    "            result = board[8]\n",
    "        \n",
    "        return result\n",
    "\n",
    "    def field_click(self, e):\n",
    "        if self.result == None and self.board[int(e.tooltip)] == None:\n",
    "            if self.agent == None or self.get_turn() == self.player:\n",
    "                self.set_field(int(e.tooltip), self.get_turn())\n",
    "\n",
    "    def reset(self, e):\n",
    "        self.board = [None for _ in range(9)]\n",
    "        self.data= []\n",
    "        self.result = None\n",
    "        \n",
    "        # Execute opposing agent code\n",
    "        if not self.agent == None and not self.player == Type.X:\n",
    "            self.agent(self)\n",
    "        \n",
    "        self.update()\n",
    "\n",
    "    def change_player(self, e):\n",
    "        self.player = Type.O if self.player == Type.X else Type.X\n",
    "        \n",
    "        self.reset('')\n",
    "\n",
    "    def set_field(self, field, type : Type, reward = 1.0):\n",
    "        # Set field to type\n",
    "        self.board[field] = type\n",
    "\n",
    "        # Add move information to data\n",
    "        if not type == self.player and not self.agent == None:\n",
    "            self.data.append('type: {}　　　field: {}　　　reward: {}'.format(type.name, field, reward))\n",
    "\n",
    "        # Set result to current result\n",
    "        self.result = self.get_result();\n",
    "        \n",
    "        # Execute opposing agent code\n",
    "        if not self.agent == None and not self.get_turn() == self.player and self.result == None:\n",
    "            self.agent(self)\n",
    "        \n",
    "        # Update the board\n",
    "        self.update()\n",
    "\n",
    "    def update(self):\n",
    "        if hasattr(self, 'field_buttons'):\n",
    "            for i in range(len(self.field_buttons)):\n",
    "                self.field_buttons[i].description = self.board[i].name if not self.board[i] == None else ' '\n",
    "            if not self.agent == None:\n",
    "                self.player_select_button.description = 'PLAYER ' + self.player.name\n",
    "            self.result_text.value = 'winner is <b>{}</b>'.format(self.result.name) if not self.result == None else ''\n",
    "            self.data_box.value = '\\n'.join(self.data)\n",
    "    \n",
    "    def render(self):\n",
    "        if not hasattr(self, 'field_buttons'):\n",
    "            self.field_buttons = []\n",
    "            elements = []\n",
    "\n",
    "            # Add header\n",
    "            elements.append(HTML(value = '<h1>TicTacToe</h1>'))\n",
    "\n",
    "            # Add field buttons\n",
    "            buttons = []\n",
    "            rows = []\n",
    "            for i in range(9):\n",
    "                btn = Button(tooltip = str(i), layout = field_layout)\n",
    "                btn.on_click(self.field_click)\n",
    "                buttons.append(btn)\n",
    "                self.field_buttons.append(btn)\n",
    "                if (i + 1) % 3 == 0:\n",
    "                    rows.append(Box(buttons))\n",
    "                    buttons = []\n",
    "            elements.append(Box(children = rows, layout = column_layout))\n",
    "\n",
    "            # Add player select\n",
    "            if not self.agent == None:\n",
    "                player_btn = Button(description = 'PLAYER ' + self.player.name, layout = wide_layout)\n",
    "                player_btn.on_click(self.change_player)\n",
    "                self.player_select_button = player_btn\n",
    "\n",
    "                elements.append(player_btn)\n",
    "\n",
    "            # Add reset button\n",
    "            reset_btn = Button(description = 'RESET', layout = wide_layout)\n",
    "            reset_btn.on_click(self.reset)\n",
    "            elements.append(reset_btn)\n",
    "\n",
    "            # Add result text\n",
    "            result_text = HTML()\n",
    "            elements.append(result_text)\n",
    "            self.result_text = result_text\n",
    "\n",
    "            # Display elements and data\n",
    "            all_elements_box = Box(children = elements, layout = column_layout)\n",
    "            self.data_box = HTML()\n",
    "            display(Box([all_elements_box, self.data_box]))"
   ]
  },
  {
   "cell_type": "markdown",
   "id": "67524fb2",
   "metadata": {},
   "source": [
    "## 3. No Agent (player vs player)"
   ]
  },
  {
   "cell_type": "code",
   "execution_count": 4,
   "id": "e7b7036b",
   "metadata": {},
   "outputs": [
    {
     "data": {
      "application/vnd.jupyter.widget-view+json": {
       "model_id": "c0af21a333a8409a8096c8ed0f91971d",
       "version_major": 2,
       "version_minor": 0
      },
      "text/plain": [
       "Box(children=(Box(children=(HTML(value='<h1>TicTacToe</h1>'), Box(children=(Box(children=(Button(layout=Layout…"
      ]
     },
     "metadata": {},
     "output_type": "display_data"
    }
   ],
   "source": [
    "tictactoe = TicTacToeEnvironment(None)\n",
    "tictactoe.render()"
   ]
  },
  {
   "cell_type": "markdown",
   "id": "847a8aa0",
   "metadata": {},
   "source": [
    "## 4. Random Agent\n",
    "\n",
    "The agent places X or O marks on random empty fields"
   ]
  },
  {
   "cell_type": "code",
   "execution_count": 5,
   "id": "a11aef49",
   "metadata": {
    "scrolled": false
   },
   "outputs": [
    {
     "data": {
      "application/vnd.jupyter.widget-view+json": {
       "model_id": "6ce8e7d93d1847ff85763ce5a2ed36bf",
       "version_major": 2,
       "version_minor": 0
      },
      "text/plain": [
       "Box(children=(Box(children=(HTML(value='<h1>TicTacToe</h1>'), Box(children=(Box(children=(Button(layout=Layout…"
      ]
     },
     "metadata": {},
     "output_type": "display_data"
    }
   ],
   "source": [
    "# Calculate random move for agent\n",
    "def random_move(tictactoe : TicTacToeEnvironment):\n",
    "    # Getting all the empty fields\n",
    "    empty_fields = [f for f in range(len(tictactoe.board)) if tictactoe.board[f] == None]\n",
    "\n",
    "    # Choose random empty field\n",
    "    if len(empty_fields) > 0:\n",
    "        agent_type = Type.O if tictactoe.player == Type.X else Type.X\n",
    "        tictactoe.set_field(random.choice(empty_fields), agent_type)\n",
    "\n",
    "# Initializing environment and rendering\n",
    "tictactoe = TicTacToeEnvironment(random_move)\n",
    "tictactoe.render()"
   ]
  },
  {
   "cell_type": "markdown",
   "id": "717bc2cb",
   "metadata": {},
   "source": [
    "## 5. Decisions based on reward agent\n",
    "\n",
    "Next we have the code for the agent and the util used for it"
   ]
  },
  {
   "cell_type": "code",
   "execution_count": 6,
   "id": "2fb4068e",
   "metadata": {
    "scrolled": false
   },
   "outputs": [
    {
     "data": {
      "application/vnd.jupyter.widget-view+json": {
       "model_id": "0c25ac7a82ad4625a304e6ddeb0d65a0",
       "version_major": 2,
       "version_minor": 0
      },
      "text/plain": [
       "Box(children=(Box(children=(HTML(value='<h1>TicTacToe</h1>'), Box(children=(Box(children=(Button(layout=Layout…"
      ]
     },
     "metadata": {},
     "output_type": "display_data"
    }
   ],
   "source": [
    "# Calculate the best move for agent based on reward\n",
    "def reward_based_move(tictactoe : TicTacToeEnvironment):\n",
    "    # Getting all the empty fields\n",
    "    empty_fields = [[f, 0.0] for f in range(len(tictactoe.board)) if tictactoe.board[f] == None]\n",
    "    \n",
    "    if len(empty_fields) > 0:\n",
    "        # Calculate reward for empty fields\n",
    "\n",
    "        # Choose field with highest reward\n",
    "        highest_reward = max([x[1] for x in empty_fields])\n",
    "        highest_field = random.choice([field for field in empty_fields if field[1] == highest_reward])\n",
    "        agent_type = Type.O if tictactoe.player == Type.X else Type.X\n",
    "        tictactoe.set_field(highest_field[0], agent_type, highest_field[1])\n",
    "\n",
    "# Initializing environment and rendering\n",
    "tictactoe = TicTacToeEnvironment(reward_based_move)\n",
    "tictactoe.render()"
   ]
  }
 ],
 "metadata": {
  "interpreter": {
   "hash": "21cebe2f5e3224dba0c406142577afe24fece8cdabfe36ea782fc3cbe70ab6c4"
  },
  "kernelspec": {
   "display_name": "Python 3",
   "language": "python",
   "name": "python3"
  },
  "language_info": {
   "codemirror_mode": {
    "name": "ipython",
    "version": 3
   },
   "file_extension": ".py",
   "mimetype": "text/x-python",
   "name": "python",
   "nbconvert_exporter": "python",
   "pygments_lexer": "ipython3",
   "version": "3.9.5"
  }
 },
 "nbformat": 4,
 "nbformat_minor": 5
}

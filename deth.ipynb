{
 "cells": [
  {
   "cell_type": "markdown",
   "id": "ebb53b1a",
   "metadata": {},
   "source": [
    "# Decision Theory Project\n",
    "*By Jelle Huibregtse and Aron Hemmes*\n",
    "\n",
    "We will create a tic-tac-toe environment with the following characteristics.\n",
    "\n",
    "Environment state:\n",
    "\n",
    "- the agent is one of the nine squares\n",
    "- an X or O can be placed on every empty square"
   ]
  }
 ],
 "metadata": {
  "kernelspec": {
   "display_name": "Python 3",
   "language": "python",
   "name": "python3"
  },
  "language_info": {
   "codemirror_mode": {
    "name": "ipython",
    "version": 3
   },
   "file_extension": ".py",
   "mimetype": "text/x-python",
   "name": "python",
   "nbconvert_exporter": "python",
   "pygments_lexer": "ipython3",
   "version": "3.8.2"
  }
 },
 "nbformat": 4,
 "nbformat_minor": 5
}
